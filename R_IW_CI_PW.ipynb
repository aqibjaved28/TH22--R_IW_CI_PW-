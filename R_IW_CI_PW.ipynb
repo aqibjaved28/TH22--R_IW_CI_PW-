{
  "cells": [
    {
      "cell_type": "markdown",
      "metadata": {
        "id": "view-in-github",
        "colab_type": "text"
      },
      "source": [
        "<a href=\"https://colab.research.google.com/github/aqibjaved28/TH22--R_IW_CI_PW-/blob/main/R_IW_CI_PW.ipynb\" target=\"_parent\"><img src=\"https://colab.research.google.com/assets/colab-badge.svg\" alt=\"Open In Colab\"/></a>"
      ]
    },
    {
      "cell_type": "markdown",
      "metadata": {
        "id": "U6K35lNE05AD"
      },
      "source": [
        "## Libraries"
      ]
    },
    {
      "cell_type": "code",
      "source": [
        "import sys\n",
        "sys.path.insert(0,'/content/RICI/')"
      ],
      "metadata": {
        "id": "ZzIoX--mDCTP"
      },
      "execution_count": 12,
      "outputs": []
    },
    {
      "cell_type": "markdown",
      "metadata": {
        "id": "c6C75OAd05AK"
      },
      "source": [
        "Install requirements"
      ]
    },
    {
      "cell_type": "code",
      "execution_count": null,
      "metadata": {
        "id": "AN8r_Mi42ehI"
      },
      "outputs": [],
      "source": [
        "!pip install monai\n",
        "!pip3 install torch torchvision torchaudio"
      ]
    },
    {
      "cell_type": "markdown",
      "metadata": {
        "id": "4lF4cp8k05AL"
      },
      "source": [
        "Import libraries"
      ]
    },
    {
      "cell_type": "code",
      "execution_count": null,
      "metadata": {
        "id": "zbbFx7YMt2bx"
      },
      "outputs": [],
      "source": [
        "import nibabel as nib\n",
        "import torch\n",
        "import matplotlib.pyplot as plt\n",
        "%matplotlib inline\n",
        "\n",
        "from main.ICI_loss import ICILoss\n",
        "from main import tools\n",
        "\n",
        "from monai.losses import DiceLoss\n",
        "from monai.losses import FocalLoss\n",
        "\n",
        "import seaborn as sns\n",
        "import numpy as np\n",
        "\n",
        "from monai.losses import DiceLoss\n",
        "\n",
        "print(torch.__version__)\n",
        "print(torch.cuda.device_count())\n",
        "print(torch.cuda.current_device())\n",
        "print(torch.cuda.device(0))\n",
        "print(torch.cuda.get_device_name(0))\n",
        "print(\"OK\")"
      ]
    },
    {
      "cell_type": "markdown",
      "metadata": {
        "id": "7XG3bchu05AM"
      },
      "source": [
        "## Load Data"
      ]
    },
    {
      "cell_type": "code",
      "execution_count": 20,
      "metadata": {
        "id": "BXF7RRPJt2by"
      },
      "outputs": [],
      "source": [
        "label_img = nib.load(\"/content/RICI/image_data/label.nii.gz\")\n",
        "nii_img_tensor = torch.from_numpy(label_img.get_fdata())\n",
        "x, y, z = nii_img_tensor.shape\n",
        "nii_img_tensor_label = torch.reshape(nii_img_tensor, (1, 1, x, y, z))\n",
        "\n",
        "output_img = nib.load(\"/content/RICI/image_data/output.nii.gz\")\n",
        "nii_img_tensor = torch.from_numpy(output_img.get_fdata())\n",
        "x, y, z = nii_img_tensor.shape\n",
        "nii_img_tensor_output = torch.reshape(nii_img_tensor, (1, 1, x, y, z))"
      ]
    },
    {
      "cell_type": "markdown",
      "source": [
        "# EDA, Visualization, and Pre-processing"
      ],
      "metadata": {
        "id": "qErmllmrHPTX"
      }
    },
    {
      "cell_type": "code",
      "source": [
        "# Convert the images to numpy arrays for analysis\n",
        "label_data = label_img.get_fdata()\n",
        "output_data = output_img.get_fdata()\n",
        "\n",
        "# Get basic information\n",
        "label_shape = label_data.shape\n",
        "output_shape = output_data.shape\n",
        "label_min, label_max = label_data.min(), label_data.max()\n",
        "output_min, output_max = output_data.min(), output_data.max()\n",
        "\n",
        "print(\"Label Image Shape:\", label_shape)\n",
        "print(\"Output Image Shape:\", output_shape)\n",
        "print(\"Label Intensity Range: Min =\", label_min, \"Max =\", label_max)\n",
        "print(\"Output Intensity Range: Min =\", output_min, \"Max =\", output_max)"
      ],
      "metadata": {
        "id": "ZwP5BAhFBoO0"
      },
      "execution_count": null,
      "outputs": []
    },
    {
      "cell_type": "code",
      "source": [
        "print(\"Label Data Shape:\", label_data.shape)\n",
        "print(\"Output Data Shape:\", output_data.shape)\n",
        "print(\"Label Affine Matrix:\\n\", label_img.affine)\n",
        "print(\"Output Affine Matrix:\\n\", output_img.affine)\n",
        "print(\"Label Data Type:\", label_data.dtype)\n",
        "print(\"Output Data Type:\", output_data.dtype)\n"
      ],
      "metadata": {
        "id": "eY_sRt4KETut"
      },
      "execution_count": null,
      "outputs": []
    },
    {
      "cell_type": "code",
      "source": [
        "# Data Summary Statistics\n",
        "label_stats = {\n",
        "    'min': np.min(label_data),\n",
        "    'max': np.max(label_data),\n",
        "    'mean': np.mean(label_data),\n",
        "    'std': np.std(label_data),\n",
        "    'sum': np.sum(label_data > 0)  # count of lesion voxels\n",
        "}\n",
        "\n",
        "output_stats = {\n",
        "    'min': np.min(output_data),\n",
        "    'max': np.max(output_data),\n",
        "    'mean': np.mean(output_data),\n",
        "    'std': np.std(output_data),\n",
        "    'sum': np.sum(output_data > 0)  # count of lesion voxels\n",
        "}\n",
        "\n",
        "print(\"\\nLabel Data Stats:\", label_stats)\n",
        "print(\"Output Data Stats:\", output_stats)\n"
      ],
      "metadata": {
        "id": "QZ7HBlWpEt7F"
      },
      "execution_count": null,
      "outputs": []
    },
    {
      "cell_type": "code",
      "source": [
        "# Visualize MRI and Segmentation Slices\n",
        "def plot_slices(data, title, slices=[30, 50, 70]):\n",
        "    fig, axs = plt.subplots(1, len(slices), figsize=(15, 5))\n",
        "    for i, slice_idx in enumerate(slices):\n",
        "        axs[i].imshow(data[:, :, slice_idx], cmap='gray')\n",
        "        axs[i].set_title(f\"{title} - Slice {slice_idx}\")\n",
        "        axs[i].axis('off')\n",
        "    plt.show()\n",
        "\n",
        "plot_slices(label_data, \"Label Data\")\n",
        "plot_slices(output_data, \"Output Data\")"
      ],
      "metadata": {
        "id": "vpPKNp1GE0q-"
      },
      "execution_count": null,
      "outputs": []
    },
    {
      "cell_type": "code",
      "source": [
        "# Overlay Segmentation on MRI Output\n",
        "def plot_overlay_slices(label_data, output_data, slices=[30, 50, 70]):\n",
        "    fig, axs = plt.subplots(1, len(slices), figsize=(15, 5))\n",
        "    for i, slice_idx in enumerate(slices):\n",
        "        axs[i].imshow(output_data[:, :, slice_idx], cmap='gray')\n",
        "        axs[i].imshow(label_data[:, :, slice_idx], cmap='Reds', alpha=0.5)  # overlay label in red\n",
        "        axs[i].set_title(f\"Overlay - Slice {slice_idx}\")\n",
        "        axs[i].axis('off')\n",
        "    plt.show()\n",
        "\n",
        "plot_overlay_slices(label_data, output_data)"
      ],
      "metadata": {
        "id": "dGjysmjfE5yp"
      },
      "execution_count": null,
      "outputs": []
    },
    {
      "cell_type": "code",
      "source": [
        "# Lesion Volume and Distribution Analysis\n",
        "# Lesion volume in each slice\n",
        "lesion_volumes = [np.sum(label_data[:, :, i] > 0) for i in range(label_data.shape[2])]\n",
        "output_volumes = [np.sum(output_data[:, :, i] > 0) for i in range(output_data.shape[2])]\n",
        "\n",
        "# Plot lesion volume across slices\n",
        "plt.figure(figsize=(10, 5))\n",
        "plt.plot(lesion_volumes, label=\"Label Lesion Volume\")\n",
        "plt.plot(output_volumes, label=\"Output Lesion Volume\", linestyle='--')\n",
        "plt.xlabel(\"Slice Index\")\n",
        "plt.ylabel(\"Lesion Volume (voxel count)\")\n",
        "plt.title(\"Lesion Volume Across Slices\")\n",
        "plt.legend()\n",
        "plt.show()"
      ],
      "metadata": {
        "id": "RCJaQg9TFCGW"
      },
      "execution_count": null,
      "outputs": []
    },
    {
      "cell_type": "code",
      "source": [
        "# Voxel Intensity Distribution\n",
        "# Compare intensity distributions\n",
        "plt.figure(figsize=(12, 6))\n",
        "sns.histplot(label_data.flatten(), color='red', kde=True, label='Label Data')\n",
        "sns.histplot(output_data.flatten(), color='blue', kde=True, label='Output Data')\n",
        "plt.xlabel(\"Voxel Intensity\")\n",
        "plt.ylabel(\"Frequency\")\n",
        "plt.title(\"Voxel Intensity Distribution in Label and Output Data\")\n",
        "plt.legend()\n",
        "plt.show()"
      ],
      "metadata": {
        "id": "t_BsJZUhFNw0"
      },
      "execution_count": null,
      "outputs": []
    },
    {
      "cell_type": "code",
      "source": [
        "# 3D Lesion Density Map (Mean Lesion Across Slices)\n",
        "mean_lesion_map = np.mean(label_data > 0, axis=2)  # calculate mean presence of lesion across all slices\n",
        "plt.figure(figsize=(8, 8))\n",
        "plt.imshow(mean_lesion_map, cmap='hot')\n",
        "plt.title(\"Mean Lesion Map Across Slices\")\n",
        "plt.colorbar(label=\"Lesion Presence Frequency\")\n",
        "plt.show()"
      ],
      "metadata": {
        "id": "Ca5Fh0ppFWXY"
      },
      "execution_count": null,
      "outputs": []
    },
    {
      "cell_type": "code",
      "source": [
        "# Visualize sample slices from the middle of each volume\n",
        "mid_slice_label = label_data.shape[2] // 2\n",
        "mid_slice_output = output_data.shape[2] // 2\n",
        "\n",
        "plt.figure(figsize=(10, 5))\n",
        "plt.subplot(1, 2, 1)\n",
        "plt.imshow(label_data[:, :, mid_slice_label], cmap='gray')\n",
        "plt.title('Label - Middle Slice')\n",
        "\n",
        "plt.subplot(1, 2, 2)\n",
        "plt.imshow(output_data[:, :, mid_slice_output], cmap='gray')\n",
        "plt.title('Output - Middle Slice')\n",
        "\n",
        "plt.show()"
      ],
      "metadata": {
        "id": "9rapfQYsEEvw"
      },
      "execution_count": null,
      "outputs": []
    },
    {
      "cell_type": "code",
      "source": [
        "print(\"Label Intensity Range: Min =\", label_min, \"Max =\", label_max)\n",
        "print(\"Output Intensity Range: Min =\", output_min, \"Max =\", output_max)"
      ],
      "metadata": {
        "id": "59bRgS_U4wHc"
      },
      "execution_count": null,
      "outputs": []
    },
    {
      "cell_type": "code",
      "source": [
        "# Lesion Intensity Analysis\n",
        "# Calculate mean intensity within lesions vs. non-lesion areas\n",
        "lesion_intensity = output_data[label_data > 0]\n",
        "non_lesion_intensity = output_data[label_data == 0]\n",
        "\n",
        "plt.figure(figsize=(10, 5))\n",
        "sns.histplot(lesion_intensity, color='red', kde=True, label='Lesion Intensity')\n",
        "sns.histplot(non_lesion_intensity, color='blue', kde=True, label='Non-Lesion Intensity')\n",
        "plt.legend()\n",
        "plt.xlabel(\"Voxel Intensity\")\n",
        "plt.ylabel(\"Frequency\")\n",
        "plt.title(\"Lesion vs Non-Lesion Intensity Distribution\")\n",
        "plt.show()\n"
      ],
      "metadata": {
        "id": "i3DCtt4cImzw"
      },
      "execution_count": null,
      "outputs": []
    },
    {
      "cell_type": "markdown",
      "metadata": {
        "id": "ltoM40Vf05AP"
      },
      "source": [
        "## Regulerized IW, CI, and PW Loss"
      ]
    },
    {
      "cell_type": "markdown",
      "metadata": {
        "id": "nj92p5OM05AP"
      },
      "source": [
        "The regulerized IW, CI, and PW loss functions are one such sophisticated tool designed to enhance the segmentation outcomes. This guide provides an in-depth explanation on how to instantiate and utilize the ICILoss class effectively. It also explores its integration with various pixel-wise segmentation losses such as Dice Loss and Focal Loss, leveraging the capabilities of the MONAI core library."
      ]
    },
    {
      "cell_type": "code",
      "execution_count": null,
      "metadata": {
        "id": "rQLmw2Wyt2bz"
      },
      "outputs": [],
      "source": [
        "loss_dice = DiceLoss(\n",
        "    to_onehot_y=False,\n",
        "    sigmoid=False,\n",
        "    softmax=False\n",
        "    )\n",
        "\n",
        "loss_dice_center = DiceLoss(\n",
        "    to_onehot_y=False,\n",
        "    sigmoid=False,\n",
        "    softmax=False\n",
        "    )\n",
        "\n",
        "loss_focal = FocalLoss(\n",
        "    to_onehot_y=False,\n",
        "    use_softmax=False\n",
        "    )\n",
        "\n",
        "loss_focal_center = FocalLoss(\n",
        "    to_onehot_y=False,\n",
        "    use_softmax=False\n",
        "    )\n",
        "\n",
        "activation=\"none\"\n",
        "num_out_chn = 1\n",
        "object_chn = 1\n",
        "mul_too_many = 50\n",
        "centroid_offset = 4\n",
        "num_iterations = 350\n",
        "max_false_detections = 50\n",
        "rate_instead_number = False\n",
        "\n",
        "ici_loss_function = ICILoss(\n",
        "    loss_function_pixel=loss_dice,\n",
        "    loss_function_instance=loss_dice_center,\n",
        "    loss_function_center=loss_dice_center,\n",
        "    activation=activation,\n",
        "    num_out_chn=num_out_chn,\n",
        "    object_chn=object_chn,\n",
        "    mul_too_many=mul_too_many,\n",
        "    max_cc_out=max_false_detections,\n",
        "    num_iterations=num_iterations,\n",
        "    centroid_offset=centroid_offset,\n",
        "    rate_instead_number=rate_instead_number,\n",
        "    instance_wise_loss_no_tp=True,\n",
        ")\n",
        "\n",
        "ici_loss_function.print_parameters()"
      ]
    },
    {
      "cell_type": "code",
      "source": [
        "nr_outputs = nii_img_tensor_output.clone().detach().requires_grad_(True).to(\"cuda:0\")\n",
        "nr_labels = nii_img_tensor_label.to(\"cuda:0\")"
      ],
      "metadata": {
        "id": "jND2IurYPDjZ"
      },
      "execution_count": 43,
      "outputs": []
    },
    {
      "cell_type": "code",
      "source": [
        "## set the values of loss co=efficents L_alpha and L_beta specified in a range [1,3]\n",
        "\n",
        "RANGE_VAUE_L_alpha = torch.randint(1, 4, (1,)).item()\n",
        "RANGE_VAUE_L_beta = torch.randint(1, 4, (1,)).item()\n",
        "\n",
        "L_alpha = RANGE_VAUE_L_alpha\n",
        "L_beta  = RANGE_VAUE_L_beta\n",
        "\n",
        "r_outputs = nr_outputs * L_alpha\n",
        "r_labels = nr_labels * L_beta"
      ],
      "metadata": {
        "id": "VkDgyQbMRU6Y"
      },
      "execution_count": 49,
      "outputs": []
    },
    {
      "cell_type": "code",
      "execution_count": null,
      "metadata": {
        "id": "Z4I_dZ9st2b0"
      },
      "outputs": [],
      "source": [
        "seg_pixel, seg_instance, seg_center, seg_fdr, cc_falsed, cc_missed = ici_loss_function(\n",
        "    r_outputs,\n",
        "    r_labels,\n",
        ")\n",
        "\n",
        "\n",
        "print(\"\\nRIW, RCI , and RPW\")\n",
        "print(\"riw loss:\", seg_instance, \" - with gradients? \", seg_instance.requires_grad)\n",
        "print(\"rci loss:\", seg_center, \" - with gradients? \", seg_center.requires_grad)\n",
        "print(\"rpw loss:\", seg_pixel, \" - with gradients? \", seg_pixel.requires_grad)\n",
        "print(\"DONE!\")"
      ]
    },
    {
      "cell_type": "code",
      "source": [
        "print(\"\\nFDR\")\n",
        "print(\"num false:\", cc_falsed, \" - with gradients? \", cc_falsed.requires_grad)\n",
        "print(\"DONE!\")"
      ],
      "metadata": {
        "id": "erHSoNJzRwYW"
      },
      "execution_count": null,
      "outputs": []
    },
    {
      "cell_type": "code",
      "source": [
        "print(\"\\nNumber of missed instances\")\n",
        "print(\"num missed:\", cc_missed, \" - with gradients? \", cc_missed.requires_grad)\n",
        "print(\"DONE!\")"
      ],
      "metadata": {
        "id": "fDYwI7cBSBM1"
      },
      "execution_count": null,
      "outputs": []
    },
    {
      "cell_type": "markdown",
      "source": [
        "# Cost Analysis"
      ],
      "metadata": {
        "id": "wxMRDi9yrn9t"
      }
    },
    {
      "cell_type": "code",
      "source": [
        "import tracemalloc\n",
        "import time\n",
        "\n",
        "tracemalloc.start()\n",
        "# Start tracking memory\n",
        "\n",
        "start_time = time.time()\n",
        "\n",
        "seg_pixel, seg_instance, seg_center, seg_fdr, cc_falsed, cc_missed = ici_loss_function(\n",
        "    r_outputs,\n",
        "    r_labels,\n",
        ")\n",
        "end_time = time.time()\n",
        "\n",
        "print(f\"Time taken for ici_loss_function: {end_time - start_time} seconds\")\n",
        "\n",
        "# Measure memory usage\n",
        "current, peak = tracemalloc.get_traced_memory()\n",
        "\n",
        "percentage_usage = (current / peak) * 100 if peak != 0 else 0\n",
        "\n",
        "print(f\"Current memory usage: {current / 1024:.2f} KB\")\n",
        "print(f\"Peak memory usage: {peak / 1024:.2f} KB\")\n",
        "print(f\"Percentage of peak usage: {percentage_usage:.2f}%\")\n",
        "\n",
        "\n",
        "tracemalloc.stop()"
      ],
      "metadata": {
        "id": "QFPni_uarm8y"
      },
      "execution_count": null,
      "outputs": []
    }
  ],
  "metadata": {
    "colab": {
      "provenance": [],
      "gpuType": "T4",
      "include_colab_link": true
    },
    "kernelspec": {
      "display_name": "Python 3",
      "name": "python3"
    },
    "language_info": {
      "name": "python"
    },
    "accelerator": "GPU"
  },
  "nbformat": 4,
  "nbformat_minor": 0
}